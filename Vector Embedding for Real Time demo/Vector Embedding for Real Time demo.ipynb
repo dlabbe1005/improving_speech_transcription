{
  "cells": [
    {
      "cell_type": "code",
      "source": [
        "import os\n",
        "import pandas as pd\n",
        "import numpy as np\n",
        "import openai\n",
        "from openai.embeddings_utils import distances_from_embeddings"
      ],
      "outputs": [],
      "execution_count": 33,
      "metadata": {
        "jupyter": {
          "source_hidden": false,
          "outputs_hidden": false
        },
        "nteract": {
          "transient": {
            "deleting": false
          }
        },
        "gather": {
          "logged": 1697294685487
        }
      }
    },
    {
      "cell_type": "code",
      "source": [
        "# Create an empty dict \n",
        "content_list = []\n",
        "\n",
        "# Specify the folder path where the .txt files are located\n",
        "folder_path = '.'\n",
        "\n",
        "# List all files in the folder\n",
        "files = os.listdir(folder_path)\n",
        "\n",
        "# Filter .txt files\n",
        "txt_files = [file for file in files if file.endswith('.txt')]\n",
        "\n",
        "# Loop through each .txt file and perform operations\n",
        "for txt_file in txt_files:\n",
        "    # Create the complete file path by joining folder path and file name\n",
        "    file_path = os.path.join(folder_path, txt_file)\n",
        "    \n",
        "    # Open and read the file\n",
        "    with open(file_path, 'r') as file:\n",
        "        file_content = file.read()\n",
        "        content_list.append({\"name\": txt_file.replace(\".txt\", \"\"), \"content\": file_content})"
      ],
      "outputs": [],
      "execution_count": 34,
      "metadata": {
        "gather": {
          "logged": 1697294686531
        }
      }
    },
    {
      "cell_type": "code",
      "source": [
        "# create a dataframe\n",
        "df = pd.DataFrame(content_list)\n",
        "df[\"embeddings\"] = \"\"\n",
        "df"
      ],
      "outputs": [
        {
          "output_type": "execute_result",
          "execution_count": 35,
          "data": {
            "text/plain": "                                                name  \\\n0  Empowering Your Health Journey - Essential Tip...   \n1  Exploring Your Health Insurance Options - A Gu...   \n2  Maximizing Your Health Coverage - Navigating I...   \n3  Understanding Exclusions - Your Guide to North...   \n4  Unlocking the Benefits - Navigating Prescripti...   \n\n                                             content embeddings  \n0  Consider signing up for the Northwind Health P...             \n1  Welcome to Contoso Electronics! We are excited...             \n2  HOW PROVIDERS AFFECT YOUR COSTS\\nIn-Network Pr...             \n3  EXCLUSIONS\\nAlthough Northwind Health Plus pro...             \n4  Prescription Drug\\nCOVERED SERVICES: Prescript...             ",
            "text/html": "<div>\n<style scoped>\n    .dataframe tbody tr th:only-of-type {\n        vertical-align: middle;\n    }\n\n    .dataframe tbody tr th {\n        vertical-align: top;\n    }\n\n    .dataframe thead th {\n        text-align: right;\n    }\n</style>\n<table border=\"1\" class=\"dataframe\">\n  <thead>\n    <tr style=\"text-align: right;\">\n      <th></th>\n      <th>name</th>\n      <th>content</th>\n      <th>embeddings</th>\n    </tr>\n  </thead>\n  <tbody>\n    <tr>\n      <th>0</th>\n      <td>Empowering Your Health Journey - Essential Tip...</td>\n      <td>Consider signing up for the Northwind Health P...</td>\n      <td></td>\n    </tr>\n    <tr>\n      <th>1</th>\n      <td>Exploring Your Health Insurance Options - A Gu...</td>\n      <td>Welcome to Contoso Electronics! We are excited...</td>\n      <td></td>\n    </tr>\n    <tr>\n      <th>2</th>\n      <td>Maximizing Your Health Coverage - Navigating I...</td>\n      <td>HOW PROVIDERS AFFECT YOUR COSTS\\nIn-Network Pr...</td>\n      <td></td>\n    </tr>\n    <tr>\n      <th>3</th>\n      <td>Understanding Exclusions - Your Guide to North...</td>\n      <td>EXCLUSIONS\\nAlthough Northwind Health Plus pro...</td>\n      <td></td>\n    </tr>\n    <tr>\n      <th>4</th>\n      <td>Unlocking the Benefits - Navigating Prescripti...</td>\n      <td>Prescription Drug\\nCOVERED SERVICES: Prescript...</td>\n      <td></td>\n    </tr>\n  </tbody>\n</table>\n</div>"
          },
          "metadata": {}
        }
      ],
      "execution_count": 35,
      "metadata": {
        "jupyter": {
          "source_hidden": false,
          "outputs_hidden": false
        },
        "nteract": {
          "transient": {
            "deleting": false
          }
        },
        "gather": {
          "logged": 1697294688526
        }
      }
    },
    {
      "cell_type": "code",
      "source": [
        "# prepare open ai calls\n",
        "openai.api_type = \"azure\"\n",
        "openai.api_key = \"3483d96f18af44c5b4da5328865a8fe9\"\n",
        "openai.api_base = \"https://aoaidalabbe.openai.azure.com/\"\n",
        "openai.api_version = \"2022-12-01\"\n",
        "\n",
        "embbeding_model = \"text-embedding-ada-002\"\n",
        "temperature = 0"
      ],
      "outputs": [],
      "execution_count": 36,
      "metadata": {
        "jupyter": {
          "source_hidden": false,
          "outputs_hidden": false
        },
        "nteract": {
          "transient": {
            "deleting": false
          }
        },
        "gather": {
          "logged": 1697294692884
        }
      }
    },
    {
      "cell_type": "code",
      "source": [
        "# Get the Embeddings\n",
        "for index, row in df.iterrows():\n",
        "    df.at[index, \"embeddings\"] = openai.Embedding.create(input         = row[\"content\"], \n",
        "                                                         model         = embbeding_model, \n",
        "                                                         deployment_id = embbeding_model, \n",
        "                                                         temperature   = temperature)[\"data\"][0][\"embedding\"]"
      ],
      "outputs": [],
      "execution_count": 37,
      "metadata": {
        "jupyter": {
          "source_hidden": false,
          "outputs_hidden": false
        },
        "nteract": {
          "transient": {
            "deleting": false
          }
        },
        "gather": {
          "logged": 1697294695394
        }
      }
    },
    {
      "cell_type": "code",
      "source": [
        "# The resulting dataframe will be like this\n",
        "df.head()"
      ],
      "outputs": [
        {
          "output_type": "execute_result",
          "execution_count": 38,
          "data": {
            "text/plain": "                                                name  \\\n0  Empowering Your Health Journey - Essential Tip...   \n1  Exploring Your Health Insurance Options - A Gu...   \n2  Maximizing Your Health Coverage - Navigating I...   \n3  Understanding Exclusions - Your Guide to North...   \n4  Unlocking the Benefits - Navigating Prescripti...   \n\n                                             content  \\\n0  Consider signing up for the Northwind Health P...   \n1  Welcome to Contoso Electronics! We are excited...   \n2  HOW PROVIDERS AFFECT YOUR COSTS\\nIn-Network Pr...   \n3  EXCLUSIONS\\nAlthough Northwind Health Plus pro...   \n4  Prescription Drug\\nCOVERED SERVICES: Prescript...   \n\n                                          embeddings  \n0  [-0.012706773355603218, -0.007550304289907217,...  \n1  [0.0010583240073174238, -0.0029922700487077236...  \n2  [0.005240269936621189, 0.0003642811207100749, ...  \n3  [-0.0031386762857437134, -0.001379720168188214...  \n4  [0.012051036581397057, -0.009269006550312042, ...  ",
            "text/html": "<div>\n<style scoped>\n    .dataframe tbody tr th:only-of-type {\n        vertical-align: middle;\n    }\n\n    .dataframe tbody tr th {\n        vertical-align: top;\n    }\n\n    .dataframe thead th {\n        text-align: right;\n    }\n</style>\n<table border=\"1\" class=\"dataframe\">\n  <thead>\n    <tr style=\"text-align: right;\">\n      <th></th>\n      <th>name</th>\n      <th>content</th>\n      <th>embeddings</th>\n    </tr>\n  </thead>\n  <tbody>\n    <tr>\n      <th>0</th>\n      <td>Empowering Your Health Journey - Essential Tip...</td>\n      <td>Consider signing up for the Northwind Health P...</td>\n      <td>[-0.012706773355603218, -0.007550304289907217,...</td>\n    </tr>\n    <tr>\n      <th>1</th>\n      <td>Exploring Your Health Insurance Options - A Gu...</td>\n      <td>Welcome to Contoso Electronics! We are excited...</td>\n      <td>[0.0010583240073174238, -0.0029922700487077236...</td>\n    </tr>\n    <tr>\n      <th>2</th>\n      <td>Maximizing Your Health Coverage - Navigating I...</td>\n      <td>HOW PROVIDERS AFFECT YOUR COSTS\\nIn-Network Pr...</td>\n      <td>[0.005240269936621189, 0.0003642811207100749, ...</td>\n    </tr>\n    <tr>\n      <th>3</th>\n      <td>Understanding Exclusions - Your Guide to North...</td>\n      <td>EXCLUSIONS\\nAlthough Northwind Health Plus pro...</td>\n      <td>[-0.0031386762857437134, -0.001379720168188214...</td>\n    </tr>\n    <tr>\n      <th>4</th>\n      <td>Unlocking the Benefits - Navigating Prescripti...</td>\n      <td>Prescription Drug\\nCOVERED SERVICES: Prescript...</td>\n      <td>[0.012051036581397057, -0.009269006550312042, ...</td>\n    </tr>\n  </tbody>\n</table>\n</div>"
          },
          "metadata": {}
        }
      ],
      "execution_count": 38,
      "metadata": {
        "jupyter": {
          "source_hidden": false,
          "outputs_hidden": false
        },
        "nteract": {
          "transient": {
            "deleting": false
          }
        },
        "gather": {
          "logged": 1697294696515
        }
      }
    },
    {
      "cell_type": "code",
      "source": [
        "def query_similar_content(database, query, n_results = 3):\n",
        "\n",
        "    embedded_query = openai.Embedding.create(input         = query, \n",
        "                                             model         = embbeding_model, \n",
        "                                             deployment_id = embbeding_model, \n",
        "                                             temperature   = temperature)[\"data\"][0][\"embedding\"]\n",
        "\n",
        "    df_distances = database.copy(deep = True)\n",
        "    df_distances[\"distance_from_query\"] = distances_from_embeddings(embedded_query, database[\"embeddings\"])\n",
        "    return df_distances[[\"name\", \"distance_from_query\"]].sort_values(\"distance_from_query\")[:n_results]"
      ],
      "outputs": [],
      "execution_count": 39,
      "metadata": {
        "jupyter": {
          "source_hidden": false,
          "outputs_hidden": false
        },
        "nteract": {
          "transient": {
            "deleting": false
          }
        },
        "gather": {
          "logged": 1697294698565
        }
      }
    },
    {
      "cell_type": "code",
      "source": [
        "query_similar_content(df, \"sign up for health insurance\")"
      ],
      "outputs": [
        {
          "output_type": "execute_result",
          "execution_count": 40,
          "data": {
            "text/plain": "                                                name  distance_from_query\n0  Empowering Your Health Journey - Essential Tip...             0.181789\n1  Exploring Your Health Insurance Options - A Gu...             0.203258\n3  Understanding Exclusions - Your Guide to North...             0.214729",
            "text/html": "<div>\n<style scoped>\n    .dataframe tbody tr th:only-of-type {\n        vertical-align: middle;\n    }\n\n    .dataframe tbody tr th {\n        vertical-align: top;\n    }\n\n    .dataframe thead th {\n        text-align: right;\n    }\n</style>\n<table border=\"1\" class=\"dataframe\">\n  <thead>\n    <tr style=\"text-align: right;\">\n      <th></th>\n      <th>name</th>\n      <th>distance_from_query</th>\n    </tr>\n  </thead>\n  <tbody>\n    <tr>\n      <th>0</th>\n      <td>Empowering Your Health Journey - Essential Tip...</td>\n      <td>0.181789</td>\n    </tr>\n    <tr>\n      <th>1</th>\n      <td>Exploring Your Health Insurance Options - A Gu...</td>\n      <td>0.203258</td>\n    </tr>\n    <tr>\n      <th>3</th>\n      <td>Understanding Exclusions - Your Guide to North...</td>\n      <td>0.214729</td>\n    </tr>\n  </tbody>\n</table>\n</div>"
          },
          "metadata": {}
        }
      ],
      "execution_count": 40,
      "metadata": {
        "jupyter": {
          "source_hidden": false,
          "outputs_hidden": false
        },
        "nteract": {
          "transient": {
            "deleting": false
          }
        },
        "gather": {
          "logged": 1697294700520
        }
      }
    },
    {
      "cell_type": "code",
      "source": [
        "query_similar_content(df, \"refill prescription medicine\")"
      ],
      "outputs": [
        {
          "output_type": "execute_result",
          "execution_count": 41,
          "data": {
            "text/plain": "                                                name  distance_from_query\n4  Unlocking the Benefits - Navigating Prescripti...             0.200822\n0  Empowering Your Health Journey - Essential Tip...             0.247938\n3  Understanding Exclusions - Your Guide to North...             0.263451",
            "text/html": "<div>\n<style scoped>\n    .dataframe tbody tr th:only-of-type {\n        vertical-align: middle;\n    }\n\n    .dataframe tbody tr th {\n        vertical-align: top;\n    }\n\n    .dataframe thead th {\n        text-align: right;\n    }\n</style>\n<table border=\"1\" class=\"dataframe\">\n  <thead>\n    <tr style=\"text-align: right;\">\n      <th></th>\n      <th>name</th>\n      <th>distance_from_query</th>\n    </tr>\n  </thead>\n  <tbody>\n    <tr>\n      <th>4</th>\n      <td>Unlocking the Benefits - Navigating Prescripti...</td>\n      <td>0.200822</td>\n    </tr>\n    <tr>\n      <th>0</th>\n      <td>Empowering Your Health Journey - Essential Tip...</td>\n      <td>0.247938</td>\n    </tr>\n    <tr>\n      <th>3</th>\n      <td>Understanding Exclusions - Your Guide to North...</td>\n      <td>0.263451</td>\n    </tr>\n  </tbody>\n</table>\n</div>"
          },
          "metadata": {}
        }
      ],
      "execution_count": 41,
      "metadata": {
        "jupyter": {
          "source_hidden": false,
          "outputs_hidden": false
        },
        "nteract": {
          "transient": {
            "deleting": false
          }
        },
        "gather": {
          "logged": 1697294714494
        }
      }
    },
    {
      "cell_type": "code",
      "source": [
        "query_similar_content(df, \"services not covered by the insurance\")"
      ],
      "outputs": [
        {
          "output_type": "execute_result",
          "execution_count": 42,
          "data": {
            "text/plain": "                                                name  distance_from_query\n3  Understanding Exclusions - Your Guide to North...             0.170785\n4  Unlocking the Benefits - Navigating Prescripti...             0.220713\n1  Exploring Your Health Insurance Options - A Gu...             0.234809",
            "text/html": "<div>\n<style scoped>\n    .dataframe tbody tr th:only-of-type {\n        vertical-align: middle;\n    }\n\n    .dataframe tbody tr th {\n        vertical-align: top;\n    }\n\n    .dataframe thead th {\n        text-align: right;\n    }\n</style>\n<table border=\"1\" class=\"dataframe\">\n  <thead>\n    <tr style=\"text-align: right;\">\n      <th></th>\n      <th>name</th>\n      <th>distance_from_query</th>\n    </tr>\n  </thead>\n  <tbody>\n    <tr>\n      <th>3</th>\n      <td>Understanding Exclusions - Your Guide to North...</td>\n      <td>0.170785</td>\n    </tr>\n    <tr>\n      <th>4</th>\n      <td>Unlocking the Benefits - Navigating Prescripti...</td>\n      <td>0.220713</td>\n    </tr>\n    <tr>\n      <th>1</th>\n      <td>Exploring Your Health Insurance Options - A Gu...</td>\n      <td>0.234809</td>\n    </tr>\n  </tbody>\n</table>\n</div>"
          },
          "metadata": {}
        }
      ],
      "execution_count": 42,
      "metadata": {
        "jupyter": {
          "source_hidden": false,
          "outputs_hidden": false
        },
        "nteract": {
          "transient": {
            "deleting": false
          }
        },
        "gather": {
          "logged": 1697294721908
        }
      }
    },
    {
      "cell_type": "code",
      "source": [],
      "outputs": [],
      "execution_count": null,
      "metadata": {
        "jupyter": {
          "source_hidden": false,
          "outputs_hidden": false
        },
        "nteract": {
          "transient": {
            "deleting": false
          }
        }
      }
    }
  ],
  "metadata": {
    "kernelspec": {
      "name": "python310-sdkv2",
      "language": "python",
      "display_name": "Python 3.10 - SDK v2"
    },
    "language_info": {
      "name": "python",
      "version": "3.10.10",
      "mimetype": "text/x-python",
      "codemirror_mode": {
        "name": "ipython",
        "version": 3
      },
      "pygments_lexer": "ipython3",
      "nbconvert_exporter": "python",
      "file_extension": ".py"
    },
    "microsoft": {
      "ms_spell_check": {
        "ms_spell_check_language": "en"
      },
      "host": {
        "AzureML": {
          "notebookHasBeenCompleted": true
        }
      }
    },
    "kernel_info": {
      "name": "python310-sdkv2"
    },
    "nteract": {
      "version": "nteract-front-end@1.0.0"
    }
  },
  "nbformat": 4,
  "nbformat_minor": 2
}