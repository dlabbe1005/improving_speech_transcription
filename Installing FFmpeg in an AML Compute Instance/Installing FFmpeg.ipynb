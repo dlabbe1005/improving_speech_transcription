{
  "cells": [
    {
      "cell_type": "markdown",
      "source": [
        "### Install FFmpeg"
      ],
      "metadata": {
        "nteract": {
          "transient": {
            "deleting": false
          }
        }
      }
    },
    {
      "cell_type": "markdown",
      "source": [
        "To install ffmpeg on Ubuntu, execute the below steps also on terminal:\n",
        "```\n",
        "sudo add-apt-repository ppa:mc3man/trusty-media \n",
        "sudo apt-get update \n",
        "sudo apt-get install ffmpeg\n",
        "sudo apt-get install frei0r-plugins\n",
        "```"
      ],
      "metadata": {
        "nteract": {
          "transient": {
            "deleting": false
          }
        }
      }
    },
    {
      "cell_type": "markdown",
      "source": [
        "### Using FFmpeg"
      ],
      "metadata": {
        "nteract": {
          "transient": {
            "deleting": false
          }
        }
      }
    },
    {
      "cell_type": "markdown",
      "source": [
        "Check the version of ffmpeg on bash terminal:\n",
        "```\n",
        "ffmpeg -version\n",
        "```\n",
        "\n",
        "Check audio properties of a given wav file in Bash:\n",
        "```\n",
        "cd Airlift/Speech/\"Installing FFmpeg in an AML Compute Instance\"\n",
        "ffprobe Call1_separated_16k_health_insurance.wav 2>&1 | grep -A1 Duration:\n",
        "```\n",
        "\n",
        "Check for all all wav files in a given folder:\n",
        "```\n",
        "find . -type f -name \"*.wav\" -print0 | xargs -0 -I {} sh -c 'ffprobe \"{}\" 2>&1 | grep -A1 Duration:'\n",
        "```\n",
        "\n",
        "Convert from stereo to mono:\n",
        "```\n",
        "for file in *.wav; do\n",
        "    output_file=$(basename \"$file\" .wav)-mono.wav\n",
        "    ffmpeg -i \"$file\" -ac 1 \"$output_file\"\n",
        "done\n",
        "```\n",
        "\n",
        "Check again the audio properties\n",
        "```\n",
        "ffprobe Call1_separated_16k_health_insurance-mono.wav 2>&1 | grep -A1 Duration:\n",
        "```"
      ],
      "metadata": {
        "nteract": {
          "transient": {
            "deleting": false
          }
        }
      }
    },
    {
      "cell_type": "code",
      "source": [],
      "outputs": [],
      "execution_count": null,
      "metadata": {
        "jupyter": {
          "source_hidden": false,
          "outputs_hidden": false
        },
        "nteract": {
          "transient": {
            "deleting": false
          }
        }
      }
    }
  ],
  "metadata": {
    "kernelspec": {
      "name": "python310-sdkv2",
      "language": "python",
      "display_name": "Python 3.10 - SDK v2"
    },
    "language_info": {
      "name": "python",
      "version": "3.10.10",
      "mimetype": "text/x-python",
      "codemirror_mode": {
        "name": "ipython",
        "version": 3
      },
      "pygments_lexer": "ipython3",
      "nbconvert_exporter": "python",
      "file_extension": ".py"
    },
    "microsoft": {
      "ms_spell_check": {
        "ms_spell_check_language": "en"
      },
      "host": {
        "AzureML": {
          "notebookHasBeenCompleted": true
        }
      }
    },
    "kernel_info": {
      "name": "python310-sdkv2"
    },
    "nteract": {
      "version": "nteract-front-end@1.0.0"
    }
  },
  "nbformat": 4,
  "nbformat_minor": 2
}